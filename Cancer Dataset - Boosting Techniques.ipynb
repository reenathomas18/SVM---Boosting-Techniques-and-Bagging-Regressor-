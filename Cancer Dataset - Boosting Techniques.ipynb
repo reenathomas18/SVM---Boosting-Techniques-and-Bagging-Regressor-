{
 "cells": [
  {
   "cell_type": "code",
   "execution_count": 1,
   "metadata": {},
   "outputs": [],
   "source": [
    "import numpy as np\n",
    "import pandas as pd\n",
    "import warnings\n",
    "warnings.filterwarnings('ignore')"
   ]
  },
  {
   "cell_type": "code",
   "execution_count": 2,
   "metadata": {},
   "outputs": [],
   "source": [
    "#Data Ref: https://www.kaggle.com/uciml/breast-cancer-wisconsin-data\n"
   ]
  },
  {
   "cell_type": "code",
   "execution_count": 3,
   "metadata": {},
   "outputs": [],
   "source": [
    "data = pd.read_csv('cancer.csv')"
   ]
  },
  {
   "cell_type": "code",
   "execution_count": null,
   "metadata": {},
   "outputs": [],
   "source": []
  },
  {
   "cell_type": "code",
   "execution_count": 4,
   "metadata": {},
   "outputs": [
    {
     "name": "stdout",
     "output_type": "stream",
     "text": [
      "<class 'pandas.core.frame.DataFrame'>\n",
      "RangeIndex: 569 entries, 0 to 568\n",
      "Data columns (total 32 columns):\n",
      "id                   569 non-null int64\n",
      "diagnosis            569 non-null object\n",
      "radius_mean          569 non-null float64\n",
      "texture_mean         569 non-null float64\n",
      "perimeter_mean       569 non-null float64\n",
      "area_mean            569 non-null float64\n",
      "smoothness_mean      569 non-null float64\n",
      "compactness_mean     569 non-null float64\n",
      "concavity_mean       569 non-null float64\n",
      "points_mean          569 non-null float64\n",
      "symmetry_mean        569 non-null float64\n",
      "dimension_mean       569 non-null float64\n",
      "radius_se            569 non-null float64\n",
      "texture_se           569 non-null float64\n",
      "perimeter_se         569 non-null float64\n",
      "area_se              569 non-null float64\n",
      "smoothness_se        569 non-null float64\n",
      "compactness_se       569 non-null float64\n",
      "concavity_se         569 non-null float64\n",
      "points_se            569 non-null float64\n",
      "symmetry_se          569 non-null float64\n",
      "dimension_se         569 non-null float64\n",
      "radius_worst         569 non-null float64\n",
      "texture_worst        569 non-null float64\n",
      "perimeter_worst      569 non-null float64\n",
      "area_worst           569 non-null float64\n",
      "smoothness_worst     569 non-null float64\n",
      "compactness_worst    569 non-null float64\n",
      "concavity_worst      569 non-null float64\n",
      "points_worst         569 non-null float64\n",
      "symmetry_worst       569 non-null float64\n",
      "dimension_worst      569 non-null float64\n",
      "dtypes: float64(30), int64(1), object(1)\n",
      "memory usage: 142.3+ KB\n"
     ]
    }
   ],
   "source": [
    "data.info()"
   ]
  },
  {
   "cell_type": "code",
   "execution_count": 5,
   "metadata": {},
   "outputs": [
    {
     "data": {
      "text/plain": [
       "array(['B', 'M'], dtype=object)"
      ]
     },
     "execution_count": 5,
     "metadata": {},
     "output_type": "execute_result"
    }
   ],
   "source": [
    "data.diagnosis.unique()"
   ]
  },
  {
   "cell_type": "code",
   "execution_count": 6,
   "metadata": {},
   "outputs": [
    {
     "data": {
      "text/plain": [
       "B    357\n",
       "M    212\n",
       "Name: diagnosis, dtype: int64"
      ]
     },
     "execution_count": 6,
     "metadata": {},
     "output_type": "execute_result"
    }
   ],
   "source": [
    "data.diagnosis.value_counts()"
   ]
  },
  {
   "cell_type": "code",
   "execution_count": 7,
   "metadata": {},
   "outputs": [],
   "source": [
    "features = data.iloc[:,2:].values\n",
    "label = data.iloc[:,1].values"
   ]
  },
  {
   "cell_type": "markdown",
   "metadata": {},
   "source": [
    "# XGBoost - XGBoostClassifier \n",
    "### This classifier internally uses decision trees to create the model. Decision Trees ideally will lead to overfitting. To avoid that you can fine tune the model using learning_rate hyperparameter.\n",
    "\n",
    "#### The ideal range for learning_rate is between 0 to 1\n",
    "#### Always start with 0.001 , Step Size is 0.001"
   ]
  },
  {
   "cell_type": "code",
   "execution_count": 7,
   "metadata": {},
   "outputs": [],
   "source": [
    "#pip install xgboost"
   ]
  },
  {
   "cell_type": "code",
   "execution_count": 8,
   "metadata": {},
   "outputs": [],
   "source": [
    "from sklearn.model_selection import train_test_split\n",
    "from xgboost import XGBClassifier\n",
    "\n",
    "for i in range(1,101):\n",
    "    X_train,X_test,y_train,y_test = train_test_split(features,\n",
    "                                                    label,\n",
    "                                                    test_size=0.2,\n",
    "                                                    random_state=i)\n",
    "    \n",
    "    model = XGBClassifier()\n",
    "    model.fit(X_train,y_train)\n",
    "    \n",
    "    train_score=model.score(X_train,y_train)\n",
    "    test_score=model.score(X_test,y_test)\n",
    "    #print(\"Testing: {}, Train: {}, RS: {}\".format(test_score,train_score,i))\n",
    "    if test_score > train_score:\n",
    "        print(\"Testing: {}, Train: {}, RS: {}\".format(test_score,train_score,i))"
   ]
  },
  {
   "cell_type": "code",
   "execution_count": 9,
   "metadata": {},
   "outputs": [],
   "source": [
    "#Above Shows the issue of OVERFITTING. One way to play around overfitting issue is to control the learning\n",
    "#rate"
   ]
  },
  {
   "cell_type": "code",
   "execution_count": 10,
   "metadata": {},
   "outputs": [
    {
     "name": "stdout",
     "output_type": "stream",
     "text": [
      "Testing: 0.9912280701754386, Train: 0.9846153846153847, RS: 42\n",
      "Testing: 0.9912280701754386, Train: 0.9846153846153847, RS: 44\n",
      "Testing: 0.9824561403508771, Train: 0.9802197802197802, RS: 54\n",
      "Testing: 0.9912280701754386, Train: 0.9868131868131869, RS: 72\n"
     ]
    }
   ],
   "source": [
    "from sklearn.model_selection import train_test_split\n",
    "from xgboost import XGBClassifier\n",
    "\n",
    "for i in range(1,101):\n",
    "    X_train,X_test,y_train,y_test = train_test_split(features,\n",
    "                                                    label,\n",
    "                                                    test_size=0.2,\n",
    "                                                    random_state=i)\n",
    "    \n",
    "    model = XGBClassifier(learning_rate=0.01)\n",
    "    model.fit(X_train,y_train)\n",
    "    \n",
    "    train_score=model.score(X_train,y_train)\n",
    "    test_score=model.score(X_test,y_test)\n",
    "    #print(\"Testing: {}, Train: {}, RS: {}\".format(test_score,train_score,i))\n",
    "    if test_score > train_score:\n",
    "        print(\"Testing: {}, Train: {}, RS: {}\".format(test_score,train_score,i))"
   ]
  },
  {
   "cell_type": "markdown",
   "metadata": {},
   "source": [
    "### If XGBoost Fails, Go for XGRFBOOST"
   ]
  },
  {
   "cell_type": "markdown",
   "metadata": {},
   "source": [
    "# XGRFBoost uses RandomForest algorithm"
   ]
  },
  {
   "cell_type": "code",
   "execution_count": 11,
   "metadata": {},
   "outputs": [],
   "source": [
    "#Steps to perform in your lab\n",
    "# 1. sudo pip install --upgrade pip\n",
    "# 2. sudo pip install xgboost"
   ]
  },
  {
   "cell_type": "code",
   "execution_count": 8,
   "metadata": {},
   "outputs": [
    {
     "ename": "ImportError",
     "evalue": "cannot import name 'XGBRFClassifier' from 'xgboost' (/opt/anaconda3/lib/python3.7/site-packages/xgboost/__init__.py)",
     "output_type": "error",
     "traceback": [
      "\u001b[0;31m---------------------------------------------------------------------------\u001b[0m",
      "\u001b[0;31mImportError\u001b[0m                               Traceback (most recent call last)",
      "\u001b[0;32m<ipython-input-8-d0e84f61e8a7>\u001b[0m in \u001b[0;36m<module>\u001b[0;34m\u001b[0m\n\u001b[1;32m      1\u001b[0m \u001b[0;32mfrom\u001b[0m \u001b[0msklearn\u001b[0m\u001b[0;34m.\u001b[0m\u001b[0mmodel_selection\u001b[0m \u001b[0;32mimport\u001b[0m \u001b[0mtrain_test_split\u001b[0m\u001b[0;34m\u001b[0m\u001b[0;34m\u001b[0m\u001b[0m\n\u001b[0;32m----> 2\u001b[0;31m \u001b[0;32mfrom\u001b[0m \u001b[0mxgboost\u001b[0m \u001b[0;32mimport\u001b[0m \u001b[0mXGBRFClassifier\u001b[0m\u001b[0;34m\u001b[0m\u001b[0;34m\u001b[0m\u001b[0m\n\u001b[0m\u001b[1;32m      3\u001b[0m \u001b[0;34m\u001b[0m\u001b[0m\n\u001b[1;32m      4\u001b[0m \u001b[0;32mfor\u001b[0m \u001b[0mi\u001b[0m \u001b[0;32min\u001b[0m \u001b[0mrange\u001b[0m\u001b[0;34m(\u001b[0m\u001b[0;36m1\u001b[0m\u001b[0;34m,\u001b[0m\u001b[0;36m101\u001b[0m\u001b[0;34m)\u001b[0m\u001b[0;34m:\u001b[0m\u001b[0;34m\u001b[0m\u001b[0;34m\u001b[0m\u001b[0m\n\u001b[1;32m      5\u001b[0m     X_train,X_test,y_train,y_test = train_test_split(features,\n",
      "\u001b[0;31mImportError\u001b[0m: cannot import name 'XGBRFClassifier' from 'xgboost' (/opt/anaconda3/lib/python3.7/site-packages/xgboost/__init__.py)"
     ]
    }
   ],
   "source": [
    "from sklearn.model_selection import train_test_split\n",
    "from xgboost import XGBRFClassifier\n",
    "\n",
    "for i in range(1,101):\n",
    "    X_train,X_test,y_train,y_test = train_test_split(features,\n",
    "                                                    label,\n",
    "                                                    test_size=0.2,\n",
    "                                                    random_state=i)\n",
    "    \n",
    "    model = XGBRFClassifier()\n",
    "    model.fit(X_train,y_train)\n",
    "    \n",
    "    train_score=model.score(X_train,y_train)\n",
    "    test_score=model.score(X_test,y_test)\n",
    "    #print(\"Testing: {}, Train: {}, RS: {}\".format(test_score,train_score,i))\n",
    "    if test_score > train_score:\n",
    "        print(\"Testing: {}, Train: {}, RS: {}\".format(test_score,train_score,i))"
   ]
  },
  {
   "cell_type": "markdown",
   "metadata": {},
   "source": [
    "# Adaptive Boosting"
   ]
  },
  {
   "cell_type": "code",
   "execution_count": 13,
   "metadata": {},
   "outputs": [],
   "source": [
    "from sklearn.ensemble import AdaBoostClassifier\n",
    "from sklearn.linear_model import LogisticRegression\n",
    "from sklearn.svm import SVC\n",
    "algorithm = LogisticRegression()\n",
    "algorithmSVM = SVC(kernel=\"linear\")\n",
    "\n",
    "model1 = AdaBoostClassifier(base_estimator=algorithm,\n",
    "                           n_estimators=101)"
   ]
  },
  {
   "cell_type": "code",
   "execution_count": 16,
   "metadata": {},
   "outputs": [
    {
     "name": "stdout",
     "output_type": "stream",
     "text": [
      "Testing: 0.9649122807017544, Train: 0.9516483516483516, RS: 2\n",
      "Testing: 0.9649122807017544, Train: 0.9472527472527472, RS: 9\n",
      "Testing: 0.9473684210526315, Train: 0.9406593406593406, RS: 10\n",
      "Testing: 0.9736842105263158, Train: 0.9472527472527472, RS: 14\n",
      "Testing: 0.956140350877193, Train: 0.9516483516483516, RS: 15\n",
      "Testing: 0.9736842105263158, Train: 0.945054945054945, RS: 16\n",
      "Testing: 0.956140350877193, Train: 0.9560439560439561, RS: 19\n",
      "Testing: 0.9649122807017544, Train: 0.9538461538461539, RS: 21\n",
      "Testing: 0.956140350877193, Train: 0.9516483516483516, RS: 22\n",
      "Testing: 0.956140350877193, Train: 0.9494505494505494, RS: 25\n",
      "Testing: 0.956140350877193, Train: 0.9516483516483516, RS: 30\n",
      "Testing: 0.9473684210526315, Train: 0.9472527472527472, RS: 31\n",
      "Testing: 0.9649122807017544, Train: 0.9494505494505494, RS: 32\n",
      "Testing: 0.956140350877193, Train: 0.9494505494505494, RS: 33\n",
      "Testing: 0.956140350877193, Train: 0.9472527472527472, RS: 35\n",
      "Testing: 0.9649122807017544, Train: 0.9494505494505494, RS: 36\n",
      "Testing: 0.9736842105263158, Train: 0.9472527472527472, RS: 38\n",
      "Testing: 0.9736842105263158, Train: 0.9406593406593406, RS: 42\n",
      "Testing: 0.9649122807017544, Train: 0.9472527472527472, RS: 43\n",
      "Testing: 0.956140350877193, Train: 0.9560439560439561, RS: 45\n",
      "Testing: 0.9473684210526315, Train: 0.945054945054945, RS: 50\n",
      "Testing: 0.9736842105263158, Train: 0.9472527472527472, RS: 51\n",
      "Testing: 0.9912280701754386, Train: 0.9406593406593406, RS: 54\n",
      "Testing: 0.956140350877193, Train: 0.945054945054945, RS: 57\n",
      "Testing: 0.956140350877193, Train: 0.9538461538461539, RS: 58\n",
      "Testing: 0.9736842105263158, Train: 0.9428571428571428, RS: 59\n",
      "Testing: 0.9824561403508771, Train: 0.9494505494505494, RS: 63\n",
      "Testing: 0.9824561403508771, Train: 0.9472527472527472, RS: 64\n",
      "Testing: 0.956140350877193, Train: 0.9494505494505494, RS: 66\n",
      "Testing: 0.9473684210526315, Train: 0.9472527472527472, RS: 67\n",
      "Testing: 0.956140350877193, Train: 0.9472527472527472, RS: 69\n",
      "Testing: 0.9824561403508771, Train: 0.9362637362637363, RS: 70\n",
      "Testing: 0.956140350877193, Train: 0.9494505494505494, RS: 72\n",
      "Testing: 0.9736842105263158, Train: 0.9428571428571428, RS: 74\n",
      "Testing: 0.956140350877193, Train: 0.9538461538461539, RS: 77\n",
      "Testing: 0.9824561403508771, Train: 0.9406593406593406, RS: 79\n",
      "Testing: 0.9473684210526315, Train: 0.9472527472527472, RS: 81\n",
      "Testing: 0.9736842105263158, Train: 0.9472527472527472, RS: 87\n",
      "Testing: 0.9736842105263158, Train: 0.945054945054945, RS: 88\n",
      "Testing: 0.9649122807017544, Train: 0.9472527472527472, RS: 91\n",
      "Testing: 0.9736842105263158, Train: 0.9472527472527472, RS: 95\n",
      "Testing: 0.9649122807017544, Train: 0.9538461538461539, RS: 96\n",
      "Testing: 0.9824561403508771, Train: 0.9472527472527472, RS: 98\n"
     ]
    }
   ],
   "source": [
    "for i in range(1,101):\n",
    "    X_train,X_test,y_train,y_test = train_test_split(features,\n",
    "                                                    label,\n",
    "                                                    test_size=0.2,\n",
    "                                                    random_state=i)\n",
    "    \n",
    "    model = AdaBoostClassifier(base_estimator=algorithmSVM,algorithm='SAMME',n_estimators=101)\n",
    "    model.fit(X_train,y_train)\n",
    "    \n",
    "    train_score=model.score(X_train,y_train)\n",
    "    test_score=model.score(X_test,y_test)\n",
    "    #print(\"Testing: {}, Train: {}, RS: {}\".format(test_score,train_score,i))\n",
    "    if test_score > train_score:\n",
    "        print(\"Testing: {}, Train: {}, RS: {}\".format(test_score,train_score,i))"
   ]
  },
  {
   "cell_type": "code",
   "execution_count": null,
   "metadata": {},
   "outputs": [],
   "source": []
  }
 ],
 "metadata": {
  "kernelspec": {
   "display_name": "Python 3",
   "language": "python",
   "name": "python3"
  },
  "language_info": {
   "codemirror_mode": {
    "name": "ipython",
    "version": 3
   },
   "file_extension": ".py",
   "mimetype": "text/x-python",
   "name": "python",
   "nbconvert_exporter": "python",
   "pygments_lexer": "ipython3",
   "version": "3.7.4"
  }
 },
 "nbformat": 4,
 "nbformat_minor": 2
}
