{
 "cells": [
  {
   "cell_type": "markdown",
   "metadata": {},
   "source": [
    "## SVM\n",
    "Given cancer dataset create SVM model with label having the patient  benign or malignant tumour using the below techniques.\n",
    "\n"
   ]
  },
  {
   "cell_type": "code",
   "execution_count": 91,
   "metadata": {},
   "outputs": [],
   "source": [
    "#Importing necessary libraries\n",
    "import pandas as pd\n",
    "import numpy as np"
   ]
  },
  {
   "cell_type": "code",
   "execution_count": 92,
   "metadata": {},
   "outputs": [],
   "source": [
    "#Loading DataSet\n",
    "df = pd.read_csv('cancer.csv')\n"
   ]
  },
  {
   "cell_type": "code",
   "execution_count": 93,
   "metadata": {},
   "outputs": [
    {
     "data": {
      "text/html": [
       "<div>\n",
       "<style scoped>\n",
       "    .dataframe tbody tr th:only-of-type {\n",
       "        vertical-align: middle;\n",
       "    }\n",
       "\n",
       "    .dataframe tbody tr th {\n",
       "        vertical-align: top;\n",
       "    }\n",
       "\n",
       "    .dataframe thead th {\n",
       "        text-align: right;\n",
       "    }\n",
       "</style>\n",
       "<table border=\"1\" class=\"dataframe\">\n",
       "  <thead>\n",
       "    <tr style=\"text-align: right;\">\n",
       "      <th></th>\n",
       "      <th>id</th>\n",
       "      <th>diagnosis</th>\n",
       "      <th>radius_mean</th>\n",
       "      <th>texture_mean</th>\n",
       "      <th>perimeter_mean</th>\n",
       "      <th>area_mean</th>\n",
       "      <th>smoothness_mean</th>\n",
       "      <th>compactness_mean</th>\n",
       "      <th>concavity_mean</th>\n",
       "      <th>points_mean</th>\n",
       "      <th>...</th>\n",
       "      <th>radius_worst</th>\n",
       "      <th>texture_worst</th>\n",
       "      <th>perimeter_worst</th>\n",
       "      <th>area_worst</th>\n",
       "      <th>smoothness_worst</th>\n",
       "      <th>compactness_worst</th>\n",
       "      <th>concavity_worst</th>\n",
       "      <th>points_worst</th>\n",
       "      <th>symmetry_worst</th>\n",
       "      <th>dimension_worst</th>\n",
       "    </tr>\n",
       "  </thead>\n",
       "  <tbody>\n",
       "    <tr>\n",
       "      <td>0</td>\n",
       "      <td>87139402</td>\n",
       "      <td>B</td>\n",
       "      <td>12.32</td>\n",
       "      <td>12.39</td>\n",
       "      <td>78.85</td>\n",
       "      <td>464.1</td>\n",
       "      <td>0.10280</td>\n",
       "      <td>0.06981</td>\n",
       "      <td>0.03987</td>\n",
       "      <td>0.03700</td>\n",
       "      <td>...</td>\n",
       "      <td>13.50</td>\n",
       "      <td>15.64</td>\n",
       "      <td>86.97</td>\n",
       "      <td>549.1</td>\n",
       "      <td>0.1385</td>\n",
       "      <td>0.1266</td>\n",
       "      <td>0.12420</td>\n",
       "      <td>0.09391</td>\n",
       "      <td>0.2827</td>\n",
       "      <td>0.06771</td>\n",
       "    </tr>\n",
       "    <tr>\n",
       "      <td>1</td>\n",
       "      <td>8910251</td>\n",
       "      <td>B</td>\n",
       "      <td>10.60</td>\n",
       "      <td>18.95</td>\n",
       "      <td>69.28</td>\n",
       "      <td>346.4</td>\n",
       "      <td>0.09688</td>\n",
       "      <td>0.11470</td>\n",
       "      <td>0.06387</td>\n",
       "      <td>0.02642</td>\n",
       "      <td>...</td>\n",
       "      <td>11.88</td>\n",
       "      <td>22.94</td>\n",
       "      <td>78.28</td>\n",
       "      <td>424.8</td>\n",
       "      <td>0.1213</td>\n",
       "      <td>0.2515</td>\n",
       "      <td>0.19160</td>\n",
       "      <td>0.07926</td>\n",
       "      <td>0.2940</td>\n",
       "      <td>0.07587</td>\n",
       "    </tr>\n",
       "    <tr>\n",
       "      <td>2</td>\n",
       "      <td>905520</td>\n",
       "      <td>B</td>\n",
       "      <td>11.04</td>\n",
       "      <td>16.83</td>\n",
       "      <td>70.92</td>\n",
       "      <td>373.2</td>\n",
       "      <td>0.10770</td>\n",
       "      <td>0.07804</td>\n",
       "      <td>0.03046</td>\n",
       "      <td>0.02480</td>\n",
       "      <td>...</td>\n",
       "      <td>12.41</td>\n",
       "      <td>26.44</td>\n",
       "      <td>79.93</td>\n",
       "      <td>471.4</td>\n",
       "      <td>0.1369</td>\n",
       "      <td>0.1482</td>\n",
       "      <td>0.10670</td>\n",
       "      <td>0.07431</td>\n",
       "      <td>0.2998</td>\n",
       "      <td>0.07881</td>\n",
       "    </tr>\n",
       "    <tr>\n",
       "      <td>3</td>\n",
       "      <td>868871</td>\n",
       "      <td>B</td>\n",
       "      <td>11.28</td>\n",
       "      <td>13.39</td>\n",
       "      <td>73.00</td>\n",
       "      <td>384.8</td>\n",
       "      <td>0.11640</td>\n",
       "      <td>0.11360</td>\n",
       "      <td>0.04635</td>\n",
       "      <td>0.04796</td>\n",
       "      <td>...</td>\n",
       "      <td>11.92</td>\n",
       "      <td>15.77</td>\n",
       "      <td>76.53</td>\n",
       "      <td>434.0</td>\n",
       "      <td>0.1367</td>\n",
       "      <td>0.1822</td>\n",
       "      <td>0.08669</td>\n",
       "      <td>0.08611</td>\n",
       "      <td>0.2102</td>\n",
       "      <td>0.06784</td>\n",
       "    </tr>\n",
       "    <tr>\n",
       "      <td>4</td>\n",
       "      <td>9012568</td>\n",
       "      <td>B</td>\n",
       "      <td>15.19</td>\n",
       "      <td>13.21</td>\n",
       "      <td>97.65</td>\n",
       "      <td>711.8</td>\n",
       "      <td>0.07963</td>\n",
       "      <td>0.06934</td>\n",
       "      <td>0.03393</td>\n",
       "      <td>0.02657</td>\n",
       "      <td>...</td>\n",
       "      <td>16.20</td>\n",
       "      <td>15.73</td>\n",
       "      <td>104.50</td>\n",
       "      <td>819.1</td>\n",
       "      <td>0.1126</td>\n",
       "      <td>0.1737</td>\n",
       "      <td>0.13620</td>\n",
       "      <td>0.08178</td>\n",
       "      <td>0.2487</td>\n",
       "      <td>0.06766</td>\n",
       "    </tr>\n",
       "  </tbody>\n",
       "</table>\n",
       "<p>5 rows × 32 columns</p>\n",
       "</div>"
      ],
      "text/plain": [
       "         id diagnosis  radius_mean  texture_mean  perimeter_mean  area_mean  \\\n",
       "0  87139402         B        12.32         12.39           78.85      464.1   \n",
       "1   8910251         B        10.60         18.95           69.28      346.4   \n",
       "2    905520         B        11.04         16.83           70.92      373.2   \n",
       "3    868871         B        11.28         13.39           73.00      384.8   \n",
       "4   9012568         B        15.19         13.21           97.65      711.8   \n",
       "\n",
       "   smoothness_mean  compactness_mean  concavity_mean  points_mean  ...  \\\n",
       "0          0.10280           0.06981         0.03987      0.03700  ...   \n",
       "1          0.09688           0.11470         0.06387      0.02642  ...   \n",
       "2          0.10770           0.07804         0.03046      0.02480  ...   \n",
       "3          0.11640           0.11360         0.04635      0.04796  ...   \n",
       "4          0.07963           0.06934         0.03393      0.02657  ...   \n",
       "\n",
       "   radius_worst  texture_worst  perimeter_worst  area_worst  smoothness_worst  \\\n",
       "0         13.50          15.64            86.97       549.1            0.1385   \n",
       "1         11.88          22.94            78.28       424.8            0.1213   \n",
       "2         12.41          26.44            79.93       471.4            0.1369   \n",
       "3         11.92          15.77            76.53       434.0            0.1367   \n",
       "4         16.20          15.73           104.50       819.1            0.1126   \n",
       "\n",
       "   compactness_worst  concavity_worst  points_worst  symmetry_worst  \\\n",
       "0             0.1266          0.12420       0.09391          0.2827   \n",
       "1             0.2515          0.19160       0.07926          0.2940   \n",
       "2             0.1482          0.10670       0.07431          0.2998   \n",
       "3             0.1822          0.08669       0.08611          0.2102   \n",
       "4             0.1737          0.13620       0.08178          0.2487   \n",
       "\n",
       "   dimension_worst  \n",
       "0          0.06771  \n",
       "1          0.07587  \n",
       "2          0.07881  \n",
       "3          0.06784  \n",
       "4          0.06766  \n",
       "\n",
       "[5 rows x 32 columns]"
      ]
     },
     "execution_count": 93,
     "metadata": {},
     "output_type": "execute_result"
    }
   ],
   "source": [
    "    df.head()"
   ]
  },
  {
   "cell_type": "code",
   "execution_count": 94,
   "metadata": {},
   "outputs": [
    {
     "data": {
      "text/html": [
       "<div>\n",
       "<style scoped>\n",
       "    .dataframe tbody tr th:only-of-type {\n",
       "        vertical-align: middle;\n",
       "    }\n",
       "\n",
       "    .dataframe tbody tr th {\n",
       "        vertical-align: top;\n",
       "    }\n",
       "\n",
       "    .dataframe thead th {\n",
       "        text-align: right;\n",
       "    }\n",
       "</style>\n",
       "<table border=\"1\" class=\"dataframe\">\n",
       "  <thead>\n",
       "    <tr style=\"text-align: right;\">\n",
       "      <th></th>\n",
       "      <th>id</th>\n",
       "      <th>radius_mean</th>\n",
       "      <th>texture_mean</th>\n",
       "      <th>perimeter_mean</th>\n",
       "      <th>area_mean</th>\n",
       "      <th>smoothness_mean</th>\n",
       "      <th>compactness_mean</th>\n",
       "      <th>concavity_mean</th>\n",
       "      <th>points_mean</th>\n",
       "      <th>symmetry_mean</th>\n",
       "      <th>...</th>\n",
       "      <th>radius_worst</th>\n",
       "      <th>texture_worst</th>\n",
       "      <th>perimeter_worst</th>\n",
       "      <th>area_worst</th>\n",
       "      <th>smoothness_worst</th>\n",
       "      <th>compactness_worst</th>\n",
       "      <th>concavity_worst</th>\n",
       "      <th>points_worst</th>\n",
       "      <th>symmetry_worst</th>\n",
       "      <th>dimension_worst</th>\n",
       "    </tr>\n",
       "  </thead>\n",
       "  <tbody>\n",
       "    <tr>\n",
       "      <td>count</td>\n",
       "      <td>5.690000e+02</td>\n",
       "      <td>569.000000</td>\n",
       "      <td>569.000000</td>\n",
       "      <td>569.000000</td>\n",
       "      <td>569.000000</td>\n",
       "      <td>569.000000</td>\n",
       "      <td>569.000000</td>\n",
       "      <td>569.000000</td>\n",
       "      <td>569.000000</td>\n",
       "      <td>569.000000</td>\n",
       "      <td>...</td>\n",
       "      <td>569.000000</td>\n",
       "      <td>569.000000</td>\n",
       "      <td>569.000000</td>\n",
       "      <td>569.000000</td>\n",
       "      <td>569.000000</td>\n",
       "      <td>569.000000</td>\n",
       "      <td>569.000000</td>\n",
       "      <td>569.000000</td>\n",
       "      <td>569.000000</td>\n",
       "      <td>569.000000</td>\n",
       "    </tr>\n",
       "    <tr>\n",
       "      <td>mean</td>\n",
       "      <td>3.037183e+07</td>\n",
       "      <td>14.127292</td>\n",
       "      <td>19.289649</td>\n",
       "      <td>91.969033</td>\n",
       "      <td>654.889104</td>\n",
       "      <td>0.096360</td>\n",
       "      <td>0.104341</td>\n",
       "      <td>0.088799</td>\n",
       "      <td>0.048919</td>\n",
       "      <td>0.181162</td>\n",
       "      <td>...</td>\n",
       "      <td>16.269190</td>\n",
       "      <td>25.677223</td>\n",
       "      <td>107.261213</td>\n",
       "      <td>880.583128</td>\n",
       "      <td>0.132369</td>\n",
       "      <td>0.254265</td>\n",
       "      <td>0.272188</td>\n",
       "      <td>0.114606</td>\n",
       "      <td>0.290076</td>\n",
       "      <td>0.083946</td>\n",
       "    </tr>\n",
       "    <tr>\n",
       "      <td>std</td>\n",
       "      <td>1.250206e+08</td>\n",
       "      <td>3.524049</td>\n",
       "      <td>4.301036</td>\n",
       "      <td>24.298981</td>\n",
       "      <td>351.914129</td>\n",
       "      <td>0.014064</td>\n",
       "      <td>0.052813</td>\n",
       "      <td>0.079720</td>\n",
       "      <td>0.038803</td>\n",
       "      <td>0.027414</td>\n",
       "      <td>...</td>\n",
       "      <td>4.833242</td>\n",
       "      <td>6.146258</td>\n",
       "      <td>33.602542</td>\n",
       "      <td>569.356993</td>\n",
       "      <td>0.022832</td>\n",
       "      <td>0.157336</td>\n",
       "      <td>0.208624</td>\n",
       "      <td>0.065732</td>\n",
       "      <td>0.061867</td>\n",
       "      <td>0.018061</td>\n",
       "    </tr>\n",
       "    <tr>\n",
       "      <td>min</td>\n",
       "      <td>8.670000e+03</td>\n",
       "      <td>6.981000</td>\n",
       "      <td>9.710000</td>\n",
       "      <td>43.790000</td>\n",
       "      <td>143.500000</td>\n",
       "      <td>0.052630</td>\n",
       "      <td>0.019380</td>\n",
       "      <td>0.000000</td>\n",
       "      <td>0.000000</td>\n",
       "      <td>0.106000</td>\n",
       "      <td>...</td>\n",
       "      <td>7.930000</td>\n",
       "      <td>12.020000</td>\n",
       "      <td>50.410000</td>\n",
       "      <td>185.200000</td>\n",
       "      <td>0.071170</td>\n",
       "      <td>0.027290</td>\n",
       "      <td>0.000000</td>\n",
       "      <td>0.000000</td>\n",
       "      <td>0.156500</td>\n",
       "      <td>0.055040</td>\n",
       "    </tr>\n",
       "    <tr>\n",
       "      <td>25%</td>\n",
       "      <td>8.692180e+05</td>\n",
       "      <td>11.700000</td>\n",
       "      <td>16.170000</td>\n",
       "      <td>75.170000</td>\n",
       "      <td>420.300000</td>\n",
       "      <td>0.086370</td>\n",
       "      <td>0.064920</td>\n",
       "      <td>0.029560</td>\n",
       "      <td>0.020310</td>\n",
       "      <td>0.161900</td>\n",
       "      <td>...</td>\n",
       "      <td>13.010000</td>\n",
       "      <td>21.080000</td>\n",
       "      <td>84.110000</td>\n",
       "      <td>515.300000</td>\n",
       "      <td>0.116600</td>\n",
       "      <td>0.147200</td>\n",
       "      <td>0.114500</td>\n",
       "      <td>0.064930</td>\n",
       "      <td>0.250400</td>\n",
       "      <td>0.071460</td>\n",
       "    </tr>\n",
       "    <tr>\n",
       "      <td>50%</td>\n",
       "      <td>9.060240e+05</td>\n",
       "      <td>13.370000</td>\n",
       "      <td>18.840000</td>\n",
       "      <td>86.240000</td>\n",
       "      <td>551.100000</td>\n",
       "      <td>0.095870</td>\n",
       "      <td>0.092630</td>\n",
       "      <td>0.061540</td>\n",
       "      <td>0.033500</td>\n",
       "      <td>0.179200</td>\n",
       "      <td>...</td>\n",
       "      <td>14.970000</td>\n",
       "      <td>25.410000</td>\n",
       "      <td>97.660000</td>\n",
       "      <td>686.500000</td>\n",
       "      <td>0.131300</td>\n",
       "      <td>0.211900</td>\n",
       "      <td>0.226700</td>\n",
       "      <td>0.099930</td>\n",
       "      <td>0.282200</td>\n",
       "      <td>0.080040</td>\n",
       "    </tr>\n",
       "    <tr>\n",
       "      <td>75%</td>\n",
       "      <td>8.813129e+06</td>\n",
       "      <td>15.780000</td>\n",
       "      <td>21.800000</td>\n",
       "      <td>104.100000</td>\n",
       "      <td>782.700000</td>\n",
       "      <td>0.105300</td>\n",
       "      <td>0.130400</td>\n",
       "      <td>0.130700</td>\n",
       "      <td>0.074000</td>\n",
       "      <td>0.195700</td>\n",
       "      <td>...</td>\n",
       "      <td>18.790000</td>\n",
       "      <td>29.720000</td>\n",
       "      <td>125.400000</td>\n",
       "      <td>1084.000000</td>\n",
       "      <td>0.146000</td>\n",
       "      <td>0.339100</td>\n",
       "      <td>0.382900</td>\n",
       "      <td>0.161400</td>\n",
       "      <td>0.317900</td>\n",
       "      <td>0.092080</td>\n",
       "    </tr>\n",
       "    <tr>\n",
       "      <td>max</td>\n",
       "      <td>9.113205e+08</td>\n",
       "      <td>28.110000</td>\n",
       "      <td>39.280000</td>\n",
       "      <td>188.500000</td>\n",
       "      <td>2501.000000</td>\n",
       "      <td>0.163400</td>\n",
       "      <td>0.345400</td>\n",
       "      <td>0.426800</td>\n",
       "      <td>0.201200</td>\n",
       "      <td>0.304000</td>\n",
       "      <td>...</td>\n",
       "      <td>36.040000</td>\n",
       "      <td>49.540000</td>\n",
       "      <td>251.200000</td>\n",
       "      <td>4254.000000</td>\n",
       "      <td>0.222600</td>\n",
       "      <td>1.058000</td>\n",
       "      <td>1.252000</td>\n",
       "      <td>0.291000</td>\n",
       "      <td>0.663800</td>\n",
       "      <td>0.207500</td>\n",
       "    </tr>\n",
       "  </tbody>\n",
       "</table>\n",
       "<p>8 rows × 31 columns</p>\n",
       "</div>"
      ],
      "text/plain": [
       "                 id  radius_mean  texture_mean  perimeter_mean    area_mean  \\\n",
       "count  5.690000e+02   569.000000    569.000000      569.000000   569.000000   \n",
       "mean   3.037183e+07    14.127292     19.289649       91.969033   654.889104   \n",
       "std    1.250206e+08     3.524049      4.301036       24.298981   351.914129   \n",
       "min    8.670000e+03     6.981000      9.710000       43.790000   143.500000   \n",
       "25%    8.692180e+05    11.700000     16.170000       75.170000   420.300000   \n",
       "50%    9.060240e+05    13.370000     18.840000       86.240000   551.100000   \n",
       "75%    8.813129e+06    15.780000     21.800000      104.100000   782.700000   \n",
       "max    9.113205e+08    28.110000     39.280000      188.500000  2501.000000   \n",
       "\n",
       "       smoothness_mean  compactness_mean  concavity_mean  points_mean  \\\n",
       "count       569.000000        569.000000      569.000000   569.000000   \n",
       "mean          0.096360          0.104341        0.088799     0.048919   \n",
       "std           0.014064          0.052813        0.079720     0.038803   \n",
       "min           0.052630          0.019380        0.000000     0.000000   \n",
       "25%           0.086370          0.064920        0.029560     0.020310   \n",
       "50%           0.095870          0.092630        0.061540     0.033500   \n",
       "75%           0.105300          0.130400        0.130700     0.074000   \n",
       "max           0.163400          0.345400        0.426800     0.201200   \n",
       "\n",
       "       symmetry_mean  ...  radius_worst  texture_worst  perimeter_worst  \\\n",
       "count     569.000000  ...    569.000000     569.000000       569.000000   \n",
       "mean        0.181162  ...     16.269190      25.677223       107.261213   \n",
       "std         0.027414  ...      4.833242       6.146258        33.602542   \n",
       "min         0.106000  ...      7.930000      12.020000        50.410000   \n",
       "25%         0.161900  ...     13.010000      21.080000        84.110000   \n",
       "50%         0.179200  ...     14.970000      25.410000        97.660000   \n",
       "75%         0.195700  ...     18.790000      29.720000       125.400000   \n",
       "max         0.304000  ...     36.040000      49.540000       251.200000   \n",
       "\n",
       "        area_worst  smoothness_worst  compactness_worst  concavity_worst  \\\n",
       "count   569.000000        569.000000         569.000000       569.000000   \n",
       "mean    880.583128          0.132369           0.254265         0.272188   \n",
       "std     569.356993          0.022832           0.157336         0.208624   \n",
       "min     185.200000          0.071170           0.027290         0.000000   \n",
       "25%     515.300000          0.116600           0.147200         0.114500   \n",
       "50%     686.500000          0.131300           0.211900         0.226700   \n",
       "75%    1084.000000          0.146000           0.339100         0.382900   \n",
       "max    4254.000000          0.222600           1.058000         1.252000   \n",
       "\n",
       "       points_worst  symmetry_worst  dimension_worst  \n",
       "count    569.000000      569.000000       569.000000  \n",
       "mean       0.114606        0.290076         0.083946  \n",
       "std        0.065732        0.061867         0.018061  \n",
       "min        0.000000        0.156500         0.055040  \n",
       "25%        0.064930        0.250400         0.071460  \n",
       "50%        0.099930        0.282200         0.080040  \n",
       "75%        0.161400        0.317900         0.092080  \n",
       "max        0.291000        0.663800         0.207500  \n",
       "\n",
       "[8 rows x 31 columns]"
      ]
     },
     "execution_count": 94,
     "metadata": {},
     "output_type": "execute_result"
    }
   ],
   "source": [
    "df.describe()"
   ]
  },
  {
   "cell_type": "code",
   "execution_count": 95,
   "metadata": {},
   "outputs": [],
   "source": [
    "df.diagnosis.replace(['B','M'],[int(0), int(1)] , inplace=True)"
   ]
  },
  {
   "cell_type": "code",
   "execution_count": 69,
   "metadata": {},
   "outputs": [
    {
     "data": {
      "text/plain": [
       "0    357\n",
       "1    212\n",
       "Name: diagnosis, dtype: int64"
      ]
     },
     "execution_count": 69,
     "metadata": {},
     "output_type": "execute_result"
    }
   ],
   "source": [
    "#Check whether teh data is a balanced dataset or not\n",
    "df.diagnosis.value_counts()\n"
   ]
  },
  {
   "cell_type": "code",
   "execution_count": 96,
   "metadata": {},
   "outputs": [
    {
     "data": {
      "text/plain": [
       "array([[1.232e+01, 1.239e+01, 7.885e+01, ..., 9.391e-02, 2.827e-01,\n",
       "        6.771e-02],\n",
       "       [1.060e+01, 1.895e+01, 6.928e+01, ..., 7.926e-02, 2.940e-01,\n",
       "        7.587e-02],\n",
       "       [1.104e+01, 1.683e+01, 7.092e+01, ..., 7.431e-02, 2.998e-01,\n",
       "        7.881e-02],\n",
       "       ...,\n",
       "       [1.528e+01, 2.241e+01, 9.892e+01, ..., 1.226e-01, 3.175e-01,\n",
       "        9.772e-02],\n",
       "       [1.453e+01, 1.398e+01, 9.386e+01, ..., 1.069e-01, 2.606e-01,\n",
       "        7.810e-02],\n",
       "       [2.137e+01, 1.510e+01, 1.413e+02, ..., 1.966e-01, 2.730e-01,\n",
       "        8.666e-02]])"
      ]
     },
     "execution_count": 96,
     "metadata": {},
     "output_type": "execute_result"
    }
   ],
   "source": [
    "#Seperate data as features and label\n",
    "features = df.iloc[:,2:33].values\n",
    "label = df.diagnosis.values\n",
    "features"
   ]
  },
  {
   "cell_type": "code",
   "execution_count": 97,
   "metadata": {},
   "outputs": [],
   "source": [
    "import warnings\n",
    "warnings.filterwarnings('ignore')"
   ]
  },
  {
   "cell_type": "code",
   "execution_count": 98,
   "metadata": {},
   "outputs": [
    {
     "data": {
      "text/plain": [
       "'\\nfrom sklearn.ensemble import BaggingClassifier\\nfrom sklearn.neighbors import KNeighborsClassifier\\n\\ndef determine_RS_and_ES(features,label):\\n    max_ts = 0\\n    max_es = 0\\n    max_rs = 0\\n    model = None\\n    for i in range(1,51):\\n        X_train,X_test,y_train,y_test = train_test_split(features,\\n                                                    label,\\n                                                    test_size=0.2,\\n                                                    random_state=i)\\n        for j in range(1,51):\\n            algorithm = KNeighborsClassifier()\\n            model = BaggingClassifier(n_estimators=j,\\n                             base_estimator=algorithm)\\n            model.fit(X_train,y_train)\\n\\n            train_s=model.score(X_train,y_train)\\n            test_s=model.score(X_test,y_test)\\n\\n            if test_s > train_s:\\n                #print(\"Test Score {} Train Score {} RS {}\".format(test_s,train_s,i))\\n                if test_s > max_ts:\\n                    max_ts = test_s\\n                    max_rs = i\\n                    max_es = j\\n                    model = model\\n        print (\"test score for RS  %r \" % max_ts)\\n    return max_ts, max_rs, max_es, X_train,X_test,y_train,y_test , model\\n\\nmax_ts, max_rs , max_es, X_train,X_test,y_train,y_test, model   = determine_RS_and_ES(features,label)\\n\\nprint (\"Random state %r Estimators %r  corresponding to max test score %r   \" %(max_rs,max_es, max_ts))\\n'"
      ]
     },
     "execution_count": 98,
     "metadata": {},
     "output_type": "execute_result"
    }
   ],
   "source": [
    "#Commenting out the below code so that execution happens faster\n",
    "\n",
    "from sklearn.model_selection import train_test_split\n",
    "\n",
    "#KNN with Bagging Classifier\n",
    "'''\n",
    "from sklearn.ensemble import BaggingClassifier\n",
    "from sklearn.neighbors import KNeighborsClassifier\n",
    "\n",
    "def determine_RS_and_ES(features,label):\n",
    "    max_ts = 0\n",
    "    max_es = 0\n",
    "    max_rs = 0\n",
    "    model = None\n",
    "    for i in range(1,51):\n",
    "        X_train,X_test,y_train,y_test = train_test_split(features,\n",
    "                                                    label,\n",
    "                                                    test_size=0.2,\n",
    "                                                    random_state=i)\n",
    "        for j in range(1,51):\n",
    "            algorithm = KNeighborsClassifier()\n",
    "            model = BaggingClassifier(n_estimators=j,\n",
    "                             base_estimator=algorithm)\n",
    "            model.fit(X_train,y_train)\n",
    "\n",
    "            train_s=model.score(X_train,y_train)\n",
    "            test_s=model.score(X_test,y_test)\n",
    "\n",
    "            if test_s > train_s:\n",
    "                #print(\"Test Score {} Train Score {} RS {}\".format(test_s,train_s,i))\n",
    "                if test_s > max_ts:\n",
    "                    max_ts = test_s\n",
    "                    max_rs = i\n",
    "                    max_es = j\n",
    "                    model = model\n",
    "        print (\"test score for RS  %r \" % max_ts)\n",
    "    return max_ts, max_rs, max_es, X_train,X_test,y_train,y_test , model\n",
    "\n",
    "max_ts, max_rs , max_es, X_train,X_test,y_train,y_test, model   = determine_RS_and_ES(features,label)\n",
    "\n",
    "print (\"Random state %r Estimators %r  corresponding to max test score %r   \" %(max_rs,max_es, max_ts))\n",
    "'''"
   ]
  },
  {
   "cell_type": "code",
   "execution_count": 99,
   "metadata": {},
   "outputs": [],
   "source": [
    "\n",
    "#Random state 44 Estimators 1  corresponding to max test score 0.914047619047619   "
   ]
  },
  {
   "cell_type": "code",
   "execution_count": 100,
   "metadata": {},
   "outputs": [],
   "source": [
    "#Train Test Split\n",
    "from sklearn.model_selection import train_test_split\n",
    "X_train,X_test,y_train,y_test = train_test_split(features,\n",
    "                                                label,\n",
    "                                                test_size=0.2,\n",
    "                                                random_state=44)"
   ]
  },
  {
   "cell_type": "code",
   "execution_count": 101,
   "metadata": {},
   "outputs": [
    {
     "data": {
      "text/plain": [
       "BaggingClassifier(base_estimator=KNeighborsClassifier(algorithm='auto',\n",
       "                                                      leaf_size=30,\n",
       "                                                      metric='minkowski',\n",
       "                                                      metric_params=None,\n",
       "                                                      n_jobs=None,\n",
       "                                                      n_neighbors=5, p=2,\n",
       "                                                      weights='uniform'),\n",
       "                  bootstrap=True, bootstrap_features=False, max_features=1.0,\n",
       "                  max_samples=1.0, n_estimators=13, n_jobs=None,\n",
       "                  oob_score=False, random_state=None, verbose=0,\n",
       "                  warm_start=False)"
      ]
     },
     "execution_count": 101,
     "metadata": {},
     "output_type": "execute_result"
    }
   ],
   "source": [
    "#KNN with Bagging Regressor\n",
    "\n",
    "from sklearn.ensemble import BaggingClassifier\n",
    "from sklearn.neighbors import KNeighborsClassifier\n",
    "\n",
    "algorithm = KNeighborsClassifier()\n",
    "\n",
    "model = BaggingClassifier(n_estimators=13,\n",
    "                         base_estimator=algorithm)\n",
    "\n",
    "model.fit(X_train,y_train)"
   ]
  },
  {
   "cell_type": "code",
   "execution_count": 102,
   "metadata": {},
   "outputs": [
    {
     "name": "stdout",
     "output_type": "stream",
     "text": [
      "0.9384615384615385\n",
      "0.9473684210526315\n"
     ]
    }
   ],
   "source": [
    "print(model.score(X_train,y_train))\n",
    "print(model.score(X_test,y_test))"
   ]
  },
  {
   "cell_type": "markdown",
   "metadata": {},
   "source": [
    "### Perform feature scaling"
   ]
  },
  {
   "cell_type": "code",
   "execution_count": 103,
   "metadata": {},
   "outputs": [],
   "source": [
    "\n",
    "import seaborn as sns\n",
    "%matplotlib inline"
   ]
  },
  {
   "cell_type": "code",
   "execution_count": 104,
   "metadata": {},
   "outputs": [
    {
     "data": {
      "text/plain": [
       "<matplotlib.axes._subplots.AxesSubplot at 0x188f91fda48>"
      ]
     },
     "execution_count": 104,
     "metadata": {},
     "output_type": "execute_result"
    },
    {
     "data": {
      "image/png": "[encoded data removed]",
      "text/plain": [
       "<Figure size 432x288 with 1 Axes>"
      ]
     },
     "metadata": {
      "needs_background": "light"
     },
     "output_type": "display_data"
    }
   ],
   "source": [
    "sns.distplot(features[:,[0]]) "
   ]
  },
  {
   "cell_type": "code",
   "execution_count": 105,
   "metadata": {},
   "outputs": [],
   "source": [
    "#Standardize the data\n",
    "\n",
    "from sklearn.preprocessing import StandardScaler\n",
    "sc = StandardScaler()\n",
    "ideal_features = sc.fit_transform(features)\n",
    "label = df.diagnosis.values"
   ]
  },
  {
   "cell_type": "code",
   "execution_count": 106,
   "metadata": {},
   "outputs": [
    {
     "data": {
      "text/plain": [
       "<matplotlib.axes._subplots.AxesSubplot at 0x188f92a8188>"
      ]
     },
     "execution_count": 106,
     "metadata": {},
     "output_type": "execute_result"
    },
    {
     "data": {
      "image/png": "[encoded data removed]",
      "text/plain": [
       "<Figure size 432x288 with 1 Axes>"
      ]
     },
     "metadata": {
      "needs_background": "light"
     },
     "output_type": "display_data"
    }
   ],
   "source": [
    "sns.distplot(ideal_features[:,[0]]) "
   ]
  },
  {
   "cell_type": "markdown",
   "metadata": {},
   "source": [
    "### SVM"
   ]
  },
  {
   "cell_type": "code",
   "execution_count": 163,
   "metadata": {},
   "outputs": [
    {
     "name": "stdout",
     "output_type": "stream",
     "text": [
      "Test Score 0.7584625683985402 Train Score 0.7530073034863507 RS 6\n",
      "Test Score 0.7624983268197094 Train Score 0.7560446838298842 RS 11\n",
      "Test Score 0.7641483321151118 Train Score 0.7578895922829368 RS 22\n",
      "Test Score 0.7897014343461236 Train Score 0.7446325665619853 RS 33\n",
      "Test Score 0.7610173099790825 Train Score 0.7549918504214738 RS 35\n",
      "Test Score 0.7570744058759029 Train Score 0.7538992932487409 RS 40\n",
      "Test Score 0.7938334643849421 Train Score 0.7513239365895789 RS 43\n",
      "Test Score 0.8072113412583289 Train Score 0.7515095324616111 RS 50\n",
      "Random state 50 corresponding to max test score for Linear model is 0.8072113412583289   \n"
     ]
    }
   ],
   "source": [
    "\n",
    "from sklearn.model_selection import train_test_split\n",
    "from sklearn.svm import SVC\n",
    "from sklearn.svm import SVR\n",
    "\n",
    "\n",
    "def determine_RS(features,label ,kernel, overfitted = False):\n",
    "    max_ts = 0\n",
    "    hit = 0\n",
    "    max_rs = 0\n",
    "    model = None\n",
    "    for i in range(1,51):\n",
    "\n",
    "        X_train,X_test,y_train,y_test = train_test_split(features,\n",
    "                                                    label,\n",
    "                                                    test_size=0.2,\n",
    "                                                    random_state=i)\n",
    "        \n",
    "        \n",
    "        if overfitted:\n",
    "            algorithm = KNeighborsClassifier()\n",
    "            model = BaggingClassifier(n_estimators=13,\n",
    "                             base_estimator=algorithm)\n",
    "        else:\n",
    "            model = SVR(kernel) #linear regressor\n",
    "            \n",
    "        model.fit(X_train,y_train)\n",
    "\n",
    "        train_s=model.score(X_train,y_train)\n",
    "        test_s=model.score(X_test,y_test)\n",
    "\n",
    "        if test_s > train_s:\n",
    "            print(\"Test Score {} Train Score {} RS {}\".format(test_s,train_s,i))\n",
    "            if test_s > max_ts:\n",
    "                hit = 1\n",
    "                max_ts = test_s\n",
    "                max_rs = i\n",
    "                model = model\n",
    "        \n",
    "    if not hit:\n",
    "        print (\"Overfitted model\")\n",
    "    return max_ts, max_rs, hit \n",
    "max_ts, max_rs, hit  = determine_RS(ideal_features,label, 'linear')\n",
    "\n",
    "print (\"Random state %r corresponding to max test score for Linear model is %r   \" %(max_rs, max_ts))\n"
   ]
  },
  {
   "cell_type": "code",
   "execution_count": 164,
   "metadata": {},
   "outputs": [],
   "source": [
    "def apply_RS(random_state, kernel):\n",
    "\n",
    "    X_train,X_test,y_train,y_test = train_test_split(ideal_features,\n",
    "                                                label,\n",
    "                                                test_size=0.2,\n",
    "                                                random_state=random_state)\n",
    "    model = SVR(kernel) #linear regressor\n",
    "    model.fit(X_train,y_train)\n",
    "\n",
    "    train_s=model.score(X_train,y_train)\n",
    "    test_s=model.score(X_test,y_test)\n",
    "    print (\"Train score  {} \" .format(train_s))\n",
    "    print (\"Test score  {} \" .format(test_s))\n",
    "    \n"
   ]
  },
  {
   "cell_type": "code",
   "execution_count": null,
   "metadata": {},
   "outputs": [],
   "source": []
  },
  {
   "cell_type": "markdown",
   "metadata": {},
   "source": [
    "### SVM - Linear"
   ]
  },
  {
   "cell_type": "code",
   "execution_count": 165,
   "metadata": {},
   "outputs": [
    {
     "name": "stdout",
     "output_type": "stream",
     "text": [
      "Test Score 0.7584625683985402 Train Score 0.7530073034863507 RS 6\n",
      "Test Score 0.7624983268197094 Train Score 0.7560446838298842 RS 11\n",
      "Test Score 0.7641483321151118 Train Score 0.7578895922829368 RS 22\n",
      "Test Score 0.7897014343461236 Train Score 0.7446325665619853 RS 33\n",
      "Test Score 0.7610173099790825 Train Score 0.7549918504214738 RS 35\n",
      "Test Score 0.7570744058759029 Train Score 0.7538992932487409 RS 40\n",
      "Test Score 0.7938334643849421 Train Score 0.7513239365895789 RS 43\n",
      "Test Score 0.8072113412583289 Train Score 0.7515095324616111 RS 50\n",
      "MAx rs 50 \n",
      "Train score  0.7515095324616111 \n",
      "Test score  0.8072113412583289 \n"
     ]
    }
   ],
   "source": [
    "max_ts, max_rs, hit  = determine_RS(ideal_features,label, 'linear')\n",
    "print (\"MAx rs %r \" % max_rs)\n",
    "if hit:\n",
    "    apply_RS(max_rs, 'linear')\n",
    "else:\n",
    "    determine_RS(ideal_features,label, 'linear', overfitted)\n",
    "    apply_RS(max_rs, 'linear')\n",
    "    "
   ]
  },
  {
   "cell_type": "markdown",
   "metadata": {},
   "source": [
    "### SVM - RBF"
   ]
  },
  {
   "cell_type": "code",
   "execution_count": 166,
   "metadata": {},
   "outputs": [
    {
     "name": "stdout",
     "output_type": "stream",
     "text": [
      "Overfitted model\n",
      "Test Score 0.9824561403508771 Train Score 0.9714285714285714 RS 3\n",
      "Test Score 0.9912280701754386 Train Score 0.967032967032967 RS 5\n",
      "Test Score 0.9736842105263158 Train Score 0.9736263736263736 RS 13\n",
      "Test Score 0.9824561403508771 Train Score 0.9758241758241758 RS 16\n",
      "Test Score 0.9824561403508771 Train Score 0.9758241758241758 RS 17\n",
      "Test Score 0.9824561403508771 Train Score 0.9714285714285714 RS 19\n",
      "Test Score 0.9736842105263158 Train Score 0.9692307692307692 RS 25\n",
      "Test Score 0.9736842105263158 Train Score 0.9736263736263736 RS 29\n",
      "Test Score 0.9736842105263158 Train Score 0.9714285714285714 RS 32\n",
      "Test Score 0.9824561403508771 Train Score 0.9758241758241758 RS 33\n",
      "Test Score 0.9824561403508771 Train Score 0.9736263736263736 RS 42\n",
      "Test Score 0.9824561403508771 Train Score 0.9714285714285714 RS 43\n",
      "Test Score 0.9824561403508771 Train Score 0.9758241758241758 RS 44\n",
      "Test Score 0.9912280701754386 Train Score 0.9626373626373627 RS 47\n",
      "Test Score 0.9736842105263158 Train Score 0.9714285714285714 RS 49\n",
      "Test Score 0.9912280701754386 Train Score 0.9736263736263736 RS 50\n",
      "Train score  0.9292451617552089 \n",
      "Test score  0.810634714699393 \n"
     ]
    }
   ],
   "source": [
    "max_ts, max_rs, hit  = determine_RS(ideal_features,label, 'rbf')\n",
    "if hit:\n",
    "    apply_RS(max_rs, 'rbf')\n",
    "else:\n",
    "    determine_RS(ideal_features,label, 'rbf', overfitted = True)\n",
    "    apply_RS(max_rs, 'rbf')\n",
    "#Conclusion : Its an overfitterd model\n"
   ]
  },
  {
   "cell_type": "markdown",
   "metadata": {},
   "source": [
    "### SVM - Poly"
   ]
  },
  {
   "cell_type": "code",
   "execution_count": 167,
   "metadata": {},
   "outputs": [
    {
     "name": "stdout",
     "output_type": "stream",
     "text": [
      "Overfitted model\n",
      "Test Score 0.9736842105263158 Train Score 0.9714285714285714 RS 3\n",
      "Test Score 0.9912280701754386 Train Score 0.9648351648351648 RS 5\n",
      "Test Score 0.9824561403508771 Train Score 0.978021978021978 RS 11\n",
      "Test Score 0.9736842105263158 Train Score 0.9736263736263736 RS 12\n",
      "Test Score 0.9824561403508771 Train Score 0.978021978021978 RS 16\n",
      "Test Score 0.9736842105263158 Train Score 0.9736263736263736 RS 17\n",
      "Test Score 0.9824561403508771 Train Score 0.9758241758241758 RS 21\n",
      "Test Score 0.9736842105263158 Train Score 0.9648351648351648 RS 22\n",
      "Test Score 0.9736842105263158 Train Score 0.967032967032967 RS 29\n",
      "Test Score 0.9736842105263158 Train Score 0.9692307692307692 RS 32\n",
      "Test Score 0.9736842105263158 Train Score 0.9714285714285714 RS 33\n",
      "Test Score 0.9824561403508771 Train Score 0.978021978021978 RS 36\n",
      "Test Score 0.9736842105263158 Train Score 0.9714285714285714 RS 42\n",
      "Test Score 0.9824561403508771 Train Score 0.9802197802197802 RS 43\n",
      "Test Score 0.9912280701754386 Train Score 0.978021978021978 RS 44\n",
      "Test Score 0.9824561403508771 Train Score 0.9714285714285714 RS 45\n",
      "Test Score 0.9824561403508771 Train Score 0.9626373626373627 RS 47\n",
      "Test Score 0.9736842105263158 Train Score 0.9736263736263736 RS 49\n",
      "Test Score 1.0 Train Score 0.9648351648351648 RS 50\n",
      "Train score  0.6891751699293208 \n",
      "Test score  -0.13322547040380628 \n"
     ]
    }
   ],
   "source": [
    "label = df.diagnosis.values\n",
    "max_ts, max_rs ,hit = determine_RS(ideal_features,label, 'poly')\n",
    "if hit:\n",
    "    apply_RS(max_rs, 'poly')\n",
    "else:\n",
    "    determine_RS(ideal_features,label, 'poly', overfitted = True)\n",
    "    #apply_RS(max_rs, 'poly')"
   ]
  },
  {
   "cell_type": "markdown",
   "metadata": {},
   "source": [
    "### SVM - Sigmoid"
   ]
  },
  {
   "cell_type": "code",
   "execution_count": 168,
   "metadata": {},
   "outputs": [
    {
     "name": "stdout",
     "output_type": "stream",
     "text": [
      "Test Score -203.28253208938906 Train Score -247.7977357701687 RS 1\n",
      "Test Score -148.75612447945892 Train Score -228.84966842699097 RS 3\n",
      "Test Score -148.58482722987426 Train Score -268.69119166999184 RS 5\n",
      "Test Score -151.24547870182116 Train Score -200.15776225776023 RS 6\n",
      "Test Score -208.97262767602538 Train Score -237.28687768017974 RS 8\n",
      "Test Score -189.06229184974572 Train Score -199.8870317459977 RS 9\n",
      "Test Score -197.22313906395308 Train Score -245.53224523400252 RS 10\n",
      "Test Score -222.82084109455784 Train Score -223.36268595259995 RS 11\n",
      "Test Score -164.5165837327984 Train Score -268.29392545471006 RS 14\n",
      "Test Score -153.75990241976288 Train Score -251.300944943091 RS 18\n",
      "Test Score -193.8946459897925 Train Score -211.487663847142 RS 19\n",
      "Test Score -160.29056700195648 Train Score -234.14990154072095 RS 21\n",
      "Test Score -181.53584252345127 Train Score -248.91605824284332 RS 22\n",
      "Test Score -211.69238182215307 Train Score -227.20862663853407 RS 23\n",
      "Test Score -186.8934446932252 Train Score -227.6761940817117 RS 24\n",
      "Test Score -173.5500394343677 Train Score -225.60965525788143 RS 26\n",
      "Test Score -186.49055035559874 Train Score -259.17389358634637 RS 31\n",
      "Test Score -125.63060318751641 Train Score -265.5557345936588 RS 34\n",
      "Test Score -54.95943852038389 Train Score -130.85882199658099 RS 35\n",
      "Test Score -217.37651425804248 Train Score -236.65673259778674 RS 36\n",
      "Test Score -91.03580944911582 Train Score -105.9130019334395 RS 37\n",
      "Test Score -220.69964370838593 Train Score -242.5747752702102 RS 38\n",
      "Test Score -198.21433449859435 Train Score -221.8462848940487 RS 39\n",
      "Test Score -171.95115624819923 Train Score -227.13934202829415 RS 40\n",
      "Test Score -174.37404831643627 Train Score -270.7348508465156 RS 41\n",
      "Test Score -169.04574506103472 Train Score -256.21890377573675 RS 42\n",
      "Test Score -229.92304684829986 Train Score -264.28737450076295 RS 43\n",
      "Test Score -199.03151613435284 Train Score -203.92202283900895 RS 44\n",
      "Test Score -165.42539400728236 Train Score -271.31445797707715 RS 45\n",
      "Test Score -79.85852228840533 Train Score -119.23349762160719 RS 46\n",
      "Test Score -105.34371576165584 Train Score -280.09190768714586 RS 47\n",
      "Test Score -170.71170763919636 Train Score -248.28647601045887 RS 48\n",
      "Test Score -133.76394535218162 Train Score -282.20366987966247 RS 50\n",
      "Overfitted model\n",
      "Test Score 0.9736842105263158 Train Score 0.9736263736263736 RS 2\n",
      "Test Score 0.9824561403508771 Train Score 0.9758241758241758 RS 3\n",
      "Test Score 0.9824561403508771 Train Score 0.967032967032967 RS 5\n",
      "Test Score 0.9736842105263158 Train Score 0.9692307692307692 RS 10\n",
      "Test Score 0.9824561403508771 Train Score 0.9736263736263736 RS 16\n",
      "Test Score 0.9824561403508771 Train Score 0.9736263736263736 RS 17\n",
      "Test Score 0.9736842105263158 Train Score 0.9736263736263736 RS 19\n",
      "Test Score 0.9824561403508771 Train Score 0.978021978021978 RS 22\n",
      "Test Score 0.9824561403508771 Train Score 0.978021978021978 RS 24\n",
      "Test Score 0.9824561403508771 Train Score 0.9736263736263736 RS 29\n",
      "Test Score 0.9736842105263158 Train Score 0.9714285714285714 RS 32\n",
      "Test Score 0.9824561403508771 Train Score 0.978021978021978 RS 33\n",
      "Test Score 0.9824561403508771 Train Score 0.9714285714285714 RS 42\n",
      "Test Score 0.9912280701754386 Train Score 0.9736263736263736 RS 43\n",
      "Test Score 0.9912280701754386 Train Score 0.9758241758241758 RS 44\n",
      "Test Score 0.9824561403508771 Train Score 0.9626373626373627 RS 47\n",
      "Test Score 0.9736842105263158 Train Score 0.9714285714285714 RS 49\n",
      "Test Score 0.9912280701754386 Train Score 0.9692307692307692 RS 50\n",
      "Train score  -282.7311801637742 \n",
      "Test score  -117.98840555983007 \n"
     ]
    }
   ],
   "source": [
    "max_ts, max_rs, hit  = determine_RS(ideal_features,label, 'sigmoid')\n",
    "if hit:\n",
    "    apply_RS(max_rs, 'sigmoid')\n",
    "else:\n",
    "    determine_RS(ideal_features,label, 'sigmoid', overfitted = True)\n",
    "    #apply_RS(max_rs, 'sigmoid')"
   ]
  },
  {
   "cell_type": "code",
   "execution_count": null,
   "metadata": {},
   "outputs": [],
   "source": []
  },
  {
   "cell_type": "code",
   "execution_count": null,
   "metadata": {},
   "outputs": [],
   "source": []
  },
  {
   "cell_type": "code",
   "execution_count": null,
   "metadata": {},
   "outputs": [],
   "source": []
  }
 ],
 "metadata": {
  "kernelspec": {
   "display_name": "Python 3",
   "language": "python",
   "name": "python3"
  },
  "language_info": {
   "codemirror_mode": {
    "name": "ipython",
    "version": 3
   },
   "file_extension": ".py",
   "mimetype": "text/x-python",
   "name": "python",
   "nbconvert_exporter": "python",
   "pygments_lexer": "ipython3",
   "version": "3.7.4"
  }
 },
 "nbformat": 4,
 "nbformat_minor": 2
}
